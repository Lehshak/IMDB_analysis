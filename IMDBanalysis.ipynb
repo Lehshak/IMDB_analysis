{
 "cells": [
  {
   "cell_type": "code",
   "execution_count": 49,
   "id": "42113513-f432-49ac-9ea7-9efefa5ea6bf",
   "metadata": {},
   "outputs": [],
   "source": [
    "import torch\n",
    "from torch import nn\n",
    "import matplotlib.pyplot as plt\n",
    "\n",
    "import os\n",
    "import pandas as pd\n",
    "\n",
    "from sklearn.preprocessing import MultiLabelBinarizer\n",
    "from sklearn.model_selection import train_test_split"
   ]
  },
  {
   "cell_type": "code",
   "execution_count": 50,
   "id": "449bf107-f721-4e66-ae8c-6f6d94814edc",
   "metadata": {},
   "outputs": [],
   "source": [
    "file_path = \"./IMBD.csv\""
   ]
  },
  {
   "cell_type": "code",
   "execution_count": 51,
   "id": "eb2eb3b6-eea8-4ea3-a827-1ab1f91f3240",
   "metadata": {},
   "outputs": [],
   "source": [
    "imdb = pd.read_csv(file_path)"
   ]
  },
  {
   "cell_type": "code",
   "execution_count": 52,
   "id": "33ad376c-6495-4514-9290-3cde321d918d",
   "metadata": {},
   "outputs": [
    {
     "data": {
      "text/html": [
       "<div>\n",
       "<style scoped>\n",
       "    .dataframe tbody tr th:only-of-type {\n",
       "        vertical-align: middle;\n",
       "    }\n",
       "\n",
       "    .dataframe tbody tr th {\n",
       "        vertical-align: top;\n",
       "    }\n",
       "\n",
       "    .dataframe thead th {\n",
       "        text-align: right;\n",
       "    }\n",
       "</style>\n",
       "<table border=\"1\" class=\"dataframe\">\n",
       "  <thead>\n",
       "    <tr style=\"text-align: right;\">\n",
       "      <th></th>\n",
       "      <th>title</th>\n",
       "      <th>year</th>\n",
       "      <th>certificate</th>\n",
       "      <th>duration</th>\n",
       "      <th>genre</th>\n",
       "      <th>rating</th>\n",
       "      <th>description</th>\n",
       "      <th>stars</th>\n",
       "      <th>votes</th>\n",
       "    </tr>\n",
       "  </thead>\n",
       "  <tbody>\n",
       "    <tr>\n",
       "      <th>0</th>\n",
       "      <td>Cobra Kai</td>\n",
       "      <td>(2018– )</td>\n",
       "      <td>TV-14</td>\n",
       "      <td>30 min</td>\n",
       "      <td>Action, Comedy, Drama</td>\n",
       "      <td>8.5</td>\n",
       "      <td>Decades after their 1984 All Valley Karate Tou...</td>\n",
       "      <td>['Ralph Macchio, ', 'William Zabka, ', 'Courtn...</td>\n",
       "      <td>177,031</td>\n",
       "    </tr>\n",
       "    <tr>\n",
       "      <th>1</th>\n",
       "      <td>The Crown</td>\n",
       "      <td>(2016– )</td>\n",
       "      <td>TV-MA</td>\n",
       "      <td>58 min</td>\n",
       "      <td>Biography, Drama, History</td>\n",
       "      <td>8.7</td>\n",
       "      <td>Follows the political rivalries and romance of...</td>\n",
       "      <td>['Claire Foy, ', 'Olivia Colman, ', 'Imelda St...</td>\n",
       "      <td>199,885</td>\n",
       "    </tr>\n",
       "    <tr>\n",
       "      <th>2</th>\n",
       "      <td>Better Call Saul</td>\n",
       "      <td>(2015–2022)</td>\n",
       "      <td>TV-MA</td>\n",
       "      <td>46 min</td>\n",
       "      <td>Crime, Drama</td>\n",
       "      <td>8.9</td>\n",
       "      <td>The trials and tribulations of criminal lawyer...</td>\n",
       "      <td>['Bob Odenkirk, ', 'Rhea Seehorn, ', 'Jonathan...</td>\n",
       "      <td>501,384</td>\n",
       "    </tr>\n",
       "    <tr>\n",
       "      <th>3</th>\n",
       "      <td>Devil in Ohio</td>\n",
       "      <td>(2022)</td>\n",
       "      <td>TV-MA</td>\n",
       "      <td>356 min</td>\n",
       "      <td>Drama, Horror, Mystery</td>\n",
       "      <td>5.9</td>\n",
       "      <td>When a psychiatrist shelters a mysterious cult...</td>\n",
       "      <td>['Emily Deschanel, ', 'Sam Jaeger, ', 'Gerardo...</td>\n",
       "      <td>9,773</td>\n",
       "    </tr>\n",
       "    <tr>\n",
       "      <th>4</th>\n",
       "      <td>Cyberpunk: Edgerunners</td>\n",
       "      <td>(2022– )</td>\n",
       "      <td>TV-MA</td>\n",
       "      <td>24 min</td>\n",
       "      <td>Animation, Action, Adventure</td>\n",
       "      <td>8.6</td>\n",
       "      <td>A Street Kid trying to survive in a technology...</td>\n",
       "      <td>['Zach Aguilar, ', 'Kenichiro Ohashi, ', 'Emi ...</td>\n",
       "      <td>15,413</td>\n",
       "    </tr>\n",
       "  </tbody>\n",
       "</table>\n",
       "</div>"
      ],
      "text/plain": [
       "                    title         year certificate duration  \\\n",
       "0               Cobra Kai     (2018– )       TV-14   30 min   \n",
       "1               The Crown     (2016– )       TV-MA   58 min   \n",
       "2        Better Call Saul  (2015–2022)       TV-MA   46 min   \n",
       "3           Devil in Ohio       (2022)       TV-MA  356 min   \n",
       "4  Cyberpunk: Edgerunners     (2022– )       TV-MA   24 min   \n",
       "\n",
       "                          genre  rating  \\\n",
       "0         Action, Comedy, Drama     8.5   \n",
       "1     Biography, Drama, History     8.7   \n",
       "2                  Crime, Drama     8.9   \n",
       "3        Drama, Horror, Mystery     5.9   \n",
       "4  Animation, Action, Adventure     8.6   \n",
       "\n",
       "                                         description  \\\n",
       "0  Decades after their 1984 All Valley Karate Tou...   \n",
       "1  Follows the political rivalries and romance of...   \n",
       "2  The trials and tribulations of criminal lawyer...   \n",
       "3  When a psychiatrist shelters a mysterious cult...   \n",
       "4  A Street Kid trying to survive in a technology...   \n",
       "\n",
       "                                               stars    votes  \n",
       "0  ['Ralph Macchio, ', 'William Zabka, ', 'Courtn...  177,031  \n",
       "1  ['Claire Foy, ', 'Olivia Colman, ', 'Imelda St...  199,885  \n",
       "2  ['Bob Odenkirk, ', 'Rhea Seehorn, ', 'Jonathan...  501,384  \n",
       "3  ['Emily Deschanel, ', 'Sam Jaeger, ', 'Gerardo...    9,773  \n",
       "4  ['Zach Aguilar, ', 'Kenichiro Ohashi, ', 'Emi ...   15,413  "
      ]
     },
     "execution_count": 52,
     "metadata": {},
     "output_type": "execute_result"
    }
   ],
   "source": [
    "imdb.head()"
   ]
  },
  {
   "cell_type": "code",
   "execution_count": 53,
   "id": "00d9fed4-fba7-459a-9fa1-2c76be842ced",
   "metadata": {},
   "outputs": [],
   "source": [
    "imdb['genre'] = imdb['genre'].apply(lambda x: x.split(', ') if isinstance(x, str) else [])\n",
    "imdb['rating'] = imdb['rating'].apply(lambda x: x if isinstance(x, float) else 6.53)\n",
    "\n",
    "#turn genre into a list of genres"
   ]
  },
  {
   "cell_type": "code",
   "execution_count": 54,
   "id": "d0b62358-a6fd-4b88-8454-a2584c9ece39",
   "metadata": {},
   "outputs": [
    {
     "data": {
      "text/plain": [
       "8.7"
      ]
     },
     "execution_count": 54,
     "metadata": {},
     "output_type": "execute_result"
    }
   ],
   "source": [
    "first_movie_genres = imdb.loc[10, 'rating']\n",
    "first_movie_genres\n"
   ]
  },
  {
   "cell_type": "code",
   "execution_count": 55,
   "id": "0161622d-7782-4465-ba3f-8f7bc3596bac",
   "metadata": {},
   "outputs": [],
   "source": [
    "#for index, row in imdb_df.iterrows():\n",
    "   # if type(imdb.at[index, 'genre']) == 'float':\n",
    "  #      print(imdb.at[index, 'genre'])\n",
    "  #  else:\n",
    "   #     imdb.at[index, 'genre'] = imdb.iloc[index]['genre'].split(', ')\n",
    "   # print(imdb.at[index, 'genre'])\n",
    "    "
   ]
  },
  {
   "cell_type": "code",
   "execution_count": 56,
   "id": "a2e3f945-90f3-4e84-9b98-402e25200ba1",
   "metadata": {},
   "outputs": [],
   "source": [
    "mlb = MultiLabelBinarizer()\n"
   ]
  },
  {
   "cell_type": "code",
   "execution_count": 57,
   "id": "ae5cd4e2-ff41-4fca-b46a-6339f4ef3457",
   "metadata": {},
   "outputs": [],
   "source": [
    "genres_encoded = mlb.fit_transform(imdb['genre'])\n",
    "#make the tensors\n",
    "\n",
    "genre_tensor = torch.tensor(genres_encoded, dtype=torch.float32)\n",
    "rating_tensor = torch.tensor(imdb['rating'].values, dtype=torch.float32)"
   ]
  },
  {
   "cell_type": "code",
   "execution_count": 58,
   "id": "339ad5b6-0ff2-4b57-b6d1-e21d43997d50",
   "metadata": {},
   "outputs": [],
   "source": [
    "nan_indices = torch.isnan(rating_tensor)\n",
    "mean_rating = torch.mean(rating_tensor[~nan_indices])\n",
    "rating_tensor[nan_indices] = mean_rating\n",
    "rating_tensor = rating_tensor.float()\n"
   ]
  },
  {
   "cell_type": "code",
   "execution_count": 59,
   "id": "2d8b565e-b5e7-4b41-9028-caf7a427957f",
   "metadata": {},
   "outputs": [],
   "source": [
    "split = int(len(imdb) * 0.8)\n",
    "#genre is x, and rating is y\n",
    "genre_train, rating_train = genre_tensor[:split], rating_tensor[:split]\n",
    "genre_test, rating_test = genre_tensor[split:], rating_tensor[split:]"
   ]
  },
  {
   "cell_type": "code",
   "execution_count": 60,
   "id": "8f279150-9f04-4d74-9a93-1be704348566",
   "metadata": {},
   "outputs": [
    {
     "data": {
      "image/png": "[encoded data removed]",
      "text/plain": [
       "<Figure size 800x600 with 1 Axes>"
      ]
     },
     "metadata": {},
     "output_type": "display_data"
    },
    {
     "data": {
      "image/png": "[encoded data removed]",
      "text/plain": [
       "<Figure size 1000x600 with 1 Axes>"
      ]
     },
     "metadata": {},
     "output_type": "display_data"
    }
   ],
   "source": [
    "plt.figure(figsize=(8, 6))\n",
    "plt.hist(rating_tensor, bins=20, color='skyblue', edgecolor='black')\n",
    "plt.xlabel('Rating')\n",
    "plt.ylabel('Frequency')\n",
    "plt.title('Distribution of Ratings')\n",
    "plt.grid(True)\n",
    "plt.show()\n",
    "\n",
    "# Bar plot of genre frequencies\n",
    "genre_counts = genre_tensor.sum(dim=0)  # Sum across rows to get genre frequencies\n",
    "genres = mlb.classes_\n",
    "\n",
    "plt.figure(figsize=(10, 6))\n",
    "plt.bar(genres, genre_counts)\n",
    "plt.xlabel('Genre')\n",
    "plt.ylabel('Frequency')\n",
    "plt.title('Frequency of Genres')\n",
    "plt.xticks(rotation=45)\n",
    "plt.show()"
   ]
  },
  {
   "cell_type": "code",
   "execution_count": null,
   "id": "cfeadcd6-a0eb-4f5d-85ac-cbc4cc8d9d82",
   "metadata": {},
   "outputs": [],
   "source": []
  },
  {
   "cell_type": "code",
   "execution_count": 61,
   "id": "4f2f444d-ca80-42ac-924f-83b82685c592",
   "metadata": {},
   "outputs": [],
   "source": [
    "class LinearRegressionModel(nn.Module):\n",
    "    def __init__(self):\n",
    "        super().__init__()\n",
    "        self.linear_layer = nn.Linear(in_features=genre_train.shape[1] , out_features=1)\n",
    "\n",
    "    def forward(self, x: torch.Tensor) -> torch.Tensor:\n",
    "        return self.linear_layer(x)\n",
    "        \n",
    "        "
   ]
  },
  {
   "cell_type": "code",
   "execution_count": null,
   "id": "6472fd4b-1926-4a15-9327-888fbe86f19c",
   "metadata": {},
   "outputs": [],
   "source": []
  },
  {
   "cell_type": "code",
   "execution_count": 62,
   "id": "a0e03ff7-bb04-4698-ada9-54a871ca2451",
   "metadata": {},
   "outputs": [
    {
     "data": {
      "text/plain": [
       "(LinearRegressionModel(\n",
       "   (linear_layer): Linear(in_features=27, out_features=1, bias=True)\n",
       " ),\n",
       " OrderedDict([('linear_layer.weight',\n",
       "               tensor([[ 0.1093, -0.0822,  0.0494,  0.0269,  0.1476, -0.0134, -0.0309, -0.0894,\n",
       "                         0.1681, -0.1228,  0.1560,  0.0265, -0.0574, -0.0652, -0.0638,  0.1912,\n",
       "                        -0.1700, -0.1139, -0.0014,  0.1784,  0.0134,  0.1065, -0.1737,  0.0903,\n",
       "                         0.0124, -0.1102, -0.0116]])),\n",
       "              ('linear_layer.bias', tensor([0.1355]))]))"
      ]
     },
     "execution_count": 62,
     "metadata": {},
     "output_type": "execute_result"
    }
   ],
   "source": [
    "model = LinearRegressionModel()\n",
    "model, model.state_dict()"
   ]
  },
  {
   "cell_type": "code",
   "execution_count": 63,
   "id": "2ae86fba-9b29-4f6b-bcaf-32aecb3904c1",
   "metadata": {},
   "outputs": [],
   "source": [
    "loss_fn = nn.L1Loss()\n",
    "optimizer = torch.optim.SGD(params=model.parameters(), lr=0.01)"
   ]
  },
  {
   "cell_type": "code",
   "execution_count": 64,
   "id": "910a3256-07c7-4c2b-ad54-ba343f74fd8f",
   "metadata": {},
   "outputs": [
    {
     "data": {
      "text/plain": [
       "'cpu'"
      ]
     },
     "execution_count": 64,
     "metadata": {},
     "output_type": "execute_result"
    }
   ],
   "source": [
    "device = \"cuda\" if torch.cuda.is_available() else \"cpu\"\n",
    "device"
   ]
  },
  {
   "cell_type": "code",
   "execution_count": 65,
   "id": "291e3922-4506-4050-a264-39b60766ceb0",
   "metadata": {
    "scrolled": true
   },
   "outputs": [
    {
     "name": "stdout",
     "output_type": "stream",
     "text": [
      "Epoch [0/1000], Train Loss: 6.400641918182373, Test Loss: 7.420934677124023\n",
      "Epoch [100/1000], Train Loss: 4.99105167388916, Test Loss: 5.941415309906006\n",
      "Epoch [200/1000], Train Loss: 3.591156244277954, Test Loss: 4.467263221740723\n",
      "Epoch [300/1000], Train Loss: 2.3116159439086914, Test Loss: 3.0609798431396484\n",
      "Epoch [400/1000], Train Loss: 1.4805083274841309, Test Loss: 1.9604315757751465\n",
      "Epoch [500/1000], Train Loss: 1.17079758644104, Test Loss: 1.380357265472412\n",
      "Epoch [600/1000], Train Loss: 1.0733177661895752, Test Loss: 1.154860496520996\n",
      "Epoch [700/1000], Train Loss: 1.0263161659240723, Test Loss: 1.0592845678329468\n",
      "Epoch [800/1000], Train Loss: 0.9924334287643433, Test Loss: 1.0095521211624146\n",
      "Epoch [900/1000], Train Loss: 0.9654154777526855, Test Loss: 0.9909319877624512\n"
     ]
    }
   ],
   "source": [
    "epochs = 1000\n",
    "\n",
    "for epoch in range(epochs):\n",
    "    model.train()\n",
    "    optimizer.zero_grad()\n",
    "\n",
    "    # Forward pass\n",
    "    rating_pred = model(genre_train)\n",
    "\n",
    "    # Ensure rating_pred is squeezed to (batch_size,)\n",
    "    rating_pred = rating_pred.squeeze()\n",
    "\n",
    "    # Calculate loss\n",
    "    loss = loss_fn(rating_pred, rating_train)\n",
    "\n",
    "    # Backward pass and optimization step\n",
    "    loss.backward()\n",
    "    optimizer.step()\n",
    "\n",
    "    # Evaluation on test set\n",
    "    model.eval()\n",
    "    with torch.no_grad():\n",
    "        test_pred = model(genre_test).squeeze()\n",
    "        test_loss = loss_fn(test_pred, rating_test)\n",
    "\n",
    "    if epoch % 100 == 0:\n",
    "        print(f\"Epoch [{epoch}/{epochs}], Train Loss: {loss.item()}, Test Loss: {test_loss.item()}\")"
   ]
  },
  {
   "cell_type": "code",
   "execution_count": 76,
   "id": "e86a8a2c-221c-4481-93ab-4e3345d9ef4f",
   "metadata": {},
   "outputs": [
    {
     "data": {
      "text/plain": [
       "0              [Action, Comedy, Drama]\n",
       "1          [Biography, Drama, History]\n",
       "2                       [Crime, Drama]\n",
       "3             [Drama, Horror, Mystery]\n",
       "4       [Animation, Action, Adventure]\n",
       "                     ...              \n",
       "9952        [Action, Adventure, Drama]\n",
       "9953         [Drama, Horror, Thriller]\n",
       "9954       [Biography, Drama, History]\n",
       "9955          [Drama, Fantasy, Horror]\n",
       "9956          [Drama, Horror, Mystery]\n",
       "Name: genre, Length: 9957, dtype: object"
      ]
     },
     "execution_count": 76,
     "metadata": {},
     "output_type": "execute_result"
    }
   ],
   "source": [
    "imdb['genre']"
   ]
  },
  {
   "cell_type": "code",
   "execution_count": 90,
   "id": "04d97895-5eb1-4612-abec-da94b1357ce5",
   "metadata": {},
   "outputs": [
    {
     "data": {
      "text/plain": [
       "6.7647905349731445"
      ]
     },
     "execution_count": 90,
     "metadata": {},
     "output_type": "execute_result"
    }
   ],
   "source": [
    "test_genres = ['Animation', 'Action', 'Adventure']\n",
    "test_genres_encoded = mlb.transform([test_genres])\n",
    "test_genres_tensor = torch.tensor(test_genres_encoded, dtype=torch.float32).to(device)\n",
    "\n",
    "model.eval()\n",
    "with torch.no_grad():\n",
    "    predicted_rating = model(test_genres_tensor).item()\n",
    "predicted_rating"
   ]
  },
  {
   "cell_type": "code",
   "execution_count": 91,
   "id": "6381d478-6615-49ab-a7be-bed16d0b8577",
   "metadata": {},
   "outputs": [
    {
     "data": {
      "text/plain": [
       "6.7647905349731445"
      ]
     },
     "execution_count": 91,
     "metadata": {},
     "output_type": "execute_result"
    }
   ],
   "source": [
    "predicted_rating"
   ]
  },
  {
   "cell_type": "code",
   "execution_count": null,
   "id": "f50851ec-8b04-4f23-9e95-d0adaf930bf1",
   "metadata": {},
   "outputs": [],
   "source": []
  }
 ],
 "metadata": {
  "kernelspec": {
   "display_name": "Python 3 (ipykernel)",
   "language": "python",
   "name": "python3"
  },
  "language_info": {
   "codemirror_mode": {
    "name": "ipython",
    "version": 3
   },
   "file_extension": ".py",
   "mimetype": "text/x-python",
   "name": "python",
   "nbconvert_exporter": "python",
   "pygments_lexer": "ipython3",
   "version": "3.11.7"
  }
 },
 "nbformat": 4,
 "nbformat_minor": 5
}
